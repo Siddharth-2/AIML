{
 "cells": [
  {
   "cell_type": "markdown",
   "id": "5b7a60ba-b0f3-49e3-8753-49b441e1dc05",
   "metadata": {},
   "source": [
    "Bayesian Classifier"
   ]
  },
  {
   "cell_type": "code",
   "execution_count": 1,
   "id": "6c637454-3b18-4647-b176-ad075ffb70a3",
   "metadata": {},
   "outputs": [
    {
     "name": "stdout",
     "output_type": "stream",
     "text": [
      "Validation Set Accuracy: 1.0\n",
      "Test Set Accuracy: 0.9333333333333333\n"
     ]
    }
   ],
   "source": [
    "import pandas as pd\n",
    "from sklearn.naive_bayes import GaussianNB\n",
    "from sklearn.preprocessing import StandardScaler\n",
    "from sklearn.model_selection import train_test_split\n",
    "from sklearn.preprocessing import LabelEncoder\n",
    "\n",
    "# Load the dataset\n",
    "df = pd.read_csv('iris.csv')\n",
    "df = df.dropna(axis=1, how='any')\n",
    "\n",
    "# Encode the target variable\n",
    "le = LabelEncoder()\n",
    "le.fit([\"Iris-setosa\", \"Iris-versicolor\", \"Iris-virginica\"])\n",
    "species_encoded = le.transform(df['Species'])\n",
    "\n",
    "# Separate features and target\n",
    "X = df[['SepalLengthCm', 'SepalWidthCm', 'PetalLengthCm', 'PetalWidthCm']].values\n",
    "y = species_encoded\n",
    "\n",
    "# Standardize the features\n",
    "scaler = StandardScaler()\n",
    "X = scaler.fit_transform(X)\n",
    "\n",
    "# Split the dataset into training, validation, and test sets\n",
    "X_train, X_test, y_train, y_test = train_test_split(X, y, test_size=0.4, random_state=42)\n",
    "X_validate, X_test, y_validate, y_test = train_test_split(X_test, y_test, test_size=0.5, random_state=42)\n",
    "\n",
    "# Create and train the Gaussian Naive Bayes classifier\n",
    "bayes = GaussianNB(priors=None)\n",
    "bayes.fit(X_train, y_train)\n",
    "\n",
    "# Evaluate the model on the validation and test sets\n",
    "print(\"Validation Set Accuracy:\", bayes.score(X_validate, y_validate))\n",
    "print(\"Test Set Accuracy:\", bayes.score(X_test, y_test))"
   ]
  },
  {
   "cell_type": "code",
   "execution_count": null,
   "id": "892d830c-8524-4790-b1e3-3f978258a4b4",
   "metadata": {},
   "outputs": [],
   "source": []
  }
 ],
 "metadata": {
  "kernelspec": {
   "display_name": "Python 3 (ipykernel)",
   "language": "python",
   "name": "python3"
  },
  "language_info": {
   "codemirror_mode": {
    "name": "ipython",
    "version": 3
   },
   "file_extension": ".py",
   "mimetype": "text/x-python",
   "name": "python",
   "nbconvert_exporter": "python",
   "pygments_lexer": "ipython3",
   "version": "3.11.7"
  }
 },
 "nbformat": 4,
 "nbformat_minor": 5
}
