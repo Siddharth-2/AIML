{
 "cells": [
  {
   "cell_type": "markdown",
   "id": "1a68ba8b-7a01-4fb9-8b0c-e01963e01d02",
   "metadata": {},
   "source": [
    "BFS"
   ]
  },
  {
   "cell_type": "code",
   "execution_count": 1,
   "id": "ebbf2bbe-900a-4308-bf80-9b68f4b409c9",
   "metadata": {},
   "outputs": [
    {
     "name": "stdout",
     "output_type": "stream",
     "text": [
      "Following is the Breadth-First Search\n",
      "5 3 7 2 4 8 "
     ]
    }
   ],
   "source": [
    "graph = {\n",
    "    '5' : ['3', '7'],\n",
    "    '3' : ['2', '4'],\n",
    "    '7' : ['8'],\n",
    "    '2' : [],\n",
    "    '4' : ['8'],\n",
    "    '8' : []\n",
    "}\n",
    "\n",
    "visited = []     #List for visited nodes\n",
    "queue = []       #Initialize a queue\n",
    "\n",
    "def bfs(visited,graph,node):        #function for bfs\n",
    "    visited.append(node)\n",
    "    queue.append(node)\n",
    "    \n",
    "    while queue:           #Creating loop to visit each node\n",
    "        m = queue.pop(0)\n",
    "        print (m, end = \" \")\n",
    "        \n",
    "        for neighbour in graph[m]:\n",
    "            if neighbour not in visited:\n",
    "                visited.append(neighbour)\n",
    "                queue.append(neighbour)\n",
    "                \n",
    "#Driver code \n",
    "print(\"Following is the Breadth-First Search\")\n",
    "bfs(visited, graph, '5')"
   ]
  },
  {
   "cell_type": "markdown",
   "id": "ef79dd6a-a841-4ccc-bc74-14b672e8f712",
   "metadata": {},
   "source": [
    "DFS"
   ]
  },
  {
   "cell_type": "code",
   "execution_count": 2,
   "id": "148e3909-2a66-4d19-825f-081aca3c08a0",
   "metadata": {},
   "outputs": [
    {
     "name": "stdout",
     "output_type": "stream",
     "text": [
      "Following is the Depth-First Search\n",
      "A\n",
      "B\n",
      "D\n",
      "E\n",
      "C\n",
      "F\n"
     ]
    }
   ],
   "source": [
    "graph = {\n",
    "    'A' : ['B', 'C'],\n",
    "    'B' : ['D', 'E'],\n",
    "    'C' : ['F'],\n",
    "    'D' : [],\n",
    "    'E' : [],\n",
    "    'F' : []\n",
    "    \n",
    "}\n",
    "\n",
    "visited=set()        #Set to keep track of visited nodes\n",
    "\n",
    "def dfs(visited,grapg,node):\n",
    "    if node not in visited:\n",
    "        print(node)\n",
    "        visited.add(node)\n",
    "        for neighbour in graph [node]:\n",
    "            dfs(visited,graph,neighbour)\n",
    "        \n",
    "#Driver code\n",
    "print(\"Following is the Depth-First Search\")\n",
    "dfs(visited,graph,'A')"
   ]
  },
  {
   "cell_type": "code",
   "execution_count": null,
   "id": "c47c0988-ef24-4378-acf3-5492b8fe5327",
   "metadata": {},
   "outputs": [],
   "source": []
  }
 ],
 "metadata": {
  "kernelspec": {
   "display_name": "Python 3 (ipykernel)",
   "language": "python",
   "name": "python3"
  },
  "language_info": {
   "codemirror_mode": {
    "name": "ipython",
    "version": 3
   },
   "file_extension": ".py",
   "mimetype": "text/x-python",
   "name": "python",
   "nbconvert_exporter": "python",
   "pygments_lexer": "ipython3",
   "version": "3.11.7"
  }
 },
 "nbformat": 4,
 "nbformat_minor": 5
}
