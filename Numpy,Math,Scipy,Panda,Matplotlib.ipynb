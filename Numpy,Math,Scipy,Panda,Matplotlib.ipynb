{
 "cells": [
  {
   "cell_type": "markdown",
   "id": "104df6f9-e22e-44f9-9c5c-c2db027a6e88",
   "metadata": {},
   "source": [
    "Numpy"
   ]
  },
  {
   "cell_type": "code",
   "execution_count": 14,
   "id": "2af2ce0e-b38d-4dc0-b91f-ac6ed6fc592e",
   "metadata": {},
   "outputs": [
    {
     "name": "stdout",
     "output_type": "stream",
     "text": [
      "Original array: [ 1  2  3  4  5  6  7  8  9 10]\n",
      "Reshaped array:\n",
      "[[ 1  2  3  4  5]\n",
      " [ 6  7  8  9 10]]\n",
      "Column sums: [ 7  9 11 13 15]\n"
     ]
    }
   ],
   "source": [
    "import numpy as np\n",
    "\n",
    "# Create a NumPy array with values from 1 to 10\n",
    "arr = np.arange(1, 11)\n",
    "print(\"Original array:\", arr)\n",
    "\n",
    "# Reshape the array into a 2x5 matrix\n",
    "arr_reshaped = arr.reshape(2, 5)\n",
    "print(\"Reshaped array:\")\n",
    "print(arr_reshaped)\n",
    "\n",
    "# Calculate the sum of each column\n",
    "column_sums = np.sum(arr_reshaped, axis=0)\n",
    "print(\"Column sums:\", column_sums)\n"
   ]
  },
  {
   "cell_type": "markdown",
   "id": "7598610f-f83c-41b3-a63a-a0456bd33066",
   "metadata": {},
   "source": [
    "Math"
   ]
  },
  {
   "cell_type": "code",
   "execution_count": 22,
   "id": "1907174b-72b4-4e6d-8407-793b3ae1c9a0",
   "metadata": {},
   "outputs": [
    {
     "name": "stdout",
     "output_type": "stream",
     "text": [
      "Square root of 16 : 4.0\n",
      "Factorial of 5 : 120\n",
      "Area of the rectangle: 15\n",
      "Perimeter of the rectangle: 16\n"
     ]
    }
   ],
   "source": [
    "import math\n",
    "\n",
    "# Calculate the square root of a number\n",
    "num = 16\n",
    "square_root = math.sqrt(num)\n",
    "print(\"Square root of\", num, \":\", square_root)\n",
    "\n",
    "# Calculate the factorial of a number\n",
    "num = 5\n",
    "factorial = math.factorial(num)\n",
    "print(\"Factorial of\", num, \":\", factorial)\n",
    "\n",
    "# Define the dimensions of the rectangle\n",
    "length = 5\n",
    "width = 3\n",
    "\n",
    "# Calculate area and perimeter\n",
    "area = length * width\n",
    "perimeter = 2 * (length + width)\n",
    "\n",
    "print(\"Area of the rectangle:\", area)\n",
    "print(\"Perimeter of the rectangle:\", perimeter)\n"
   ]
  },
  {
   "cell_type": "markdown",
   "id": "79eade31-d6f6-457a-8204-443e1b1a709b",
   "metadata": {},
   "source": [
    "Scipy"
   ]
  },
  {
   "cell_type": "code",
   "execution_count": 18,
   "id": "1863fdd1-180f-43d2-9f3f-01c9eb6099f9",
   "metadata": {},
   "outputs": [
    {
     "name": "stdout",
     "output_type": "stream",
     "text": [
      "Mean: 6.0\n",
      "Median: 6.0\n",
      "Standard Deviation: 2.8284271247461903\n",
      "25th Percentile: 4.0\n",
      "75th Percentile: 8.0\n"
     ]
    }
   ],
   "source": [
    "import numpy as np\n",
    "from scipy import stats\n",
    "\n",
    "# Define a list of numbers\n",
    "data = [2, 4, 6, 8, 10]\n",
    "\n",
    "# Calculate the mean of the data using NumPy\n",
    "mean = np.mean(data)\n",
    "print(\"Mean:\", mean)\n",
    "\n",
    "# Calculate the median of the data\n",
    "median = np.median(data)\n",
    "print(\"Median:\", median)\n",
    "\n",
    "# Calculate the standard deviation of the data\n",
    "std_dev = np.std(data)\n",
    "print(\"Standard Deviation:\", std_dev)\n",
    "\n",
    "# Calculate the 25th and 75th percentiles of the data\n",
    "percentile_25 = np.percentile(data, 25)\n",
    "percentile_75 = np.percentile(data, 75)\n",
    "print(\"25th Percentile:\", percentile_25)\n",
    "print(\"75th Percentile:\", percentile_75)\n"
   ]
  },
  {
   "cell_type": "markdown",
   "id": "9c8b1a28-3710-4776-80a3-5d05d911fcc9",
   "metadata": {},
   "source": [
    "Matplotlib"
   ]
  },
  {
   "cell_type": "code",
   "execution_count": 19,
   "id": "1d99f20b-8af8-44b0-bbde-40bca6b1d77e",
   "metadata": {},
   "outputs": [
    {
     "data": {
      "image/png": "[encoded data removed]",
      "text/plain": [
       "<Figure size 640x480 with 1 Axes>"
      ]
     },
     "metadata": {},
     "output_type": "display_data"
    }
   ],
   "source": [
    "import matplotlib.pyplot as plt\n",
    "\n",
    "# Data\n",
    "x = [1, 2, 3, 4, 5]\n",
    "y = [2, 4, 6, 8, 10]\n",
    "\n",
    "# Plot the data\n",
    "plt.plot(x, y)\n",
    "\n",
    "# Show the plot\n",
    "plt.show()\n"
   ]
  },
  {
   "cell_type": "markdown",
   "id": "b7f62516-eb0c-4d4c-bf98-81c0dabaeba9",
   "metadata": {},
   "source": [
    "Pandas"
   ]
  },
  {
   "cell_type": "code",
   "execution_count": 20,
   "id": "beb9f737-6c3c-4ff2-8f78-be62ed32b64a",
   "metadata": {},
   "outputs": [
    {
     "name": "stdout",
     "output_type": "stream",
     "text": [
      "DataFrame:\n",
      "      Name  Age         City\n",
      "0    Alice   25     New York\n",
      "1      Bob   30  Los Angeles\n",
      "2  Charlie   35      Chicago\n",
      "3    David   40      Houston\n",
      "\n",
      "Name column:\n",
      "0      Alice\n",
      "1        Bob\n",
      "2    Charlie\n",
      "3      David\n",
      "Name: Name, dtype: object\n",
      "\n",
      "Second row:\n",
      "Name            Bob\n",
      "Age              30\n",
      "City    Los Angeles\n",
      "Name: 1, dtype: object\n",
      "\n",
      "DataFrame with new column:\n",
      "      Name  Age         City  Gender\n",
      "0    Alice   25     New York  Female\n",
      "1      Bob   30  Los Angeles    Male\n",
      "2  Charlie   35      Chicago    Male\n",
      "3    David   40      Houston    Male\n"
     ]
    }
   ],
   "source": [
    "import pandas as pd\n",
    "\n",
    "# Create a dictionary with data\n",
    "data = {'Name': ['Alice', 'Bob', 'Charlie', 'David'],\n",
    "        'Age': [25, 30, 35, 40],\n",
    "        'City': ['New York', 'Los Angeles', 'Chicago', 'Houston']}\n",
    "\n",
    "# Create a DataFrame from the dictionary\n",
    "df = pd.DataFrame(data)\n",
    "\n",
    "# Display the DataFrame\n",
    "print(\"DataFrame:\")\n",
    "print(df)\n",
    "\n",
    "# Accessing specific columns\n",
    "print(\"\\nName column:\")\n",
    "print(df['Name'])\n",
    "\n",
    "# Accessing specific rows\n",
    "print(\"\\nSecond row:\")\n",
    "print(df.iloc[1])\n",
    "\n",
    "# Adding a new column\n",
    "df['Gender'] = ['Female', 'Male', 'Male', 'Male']\n",
    "print(\"\\nDataFrame with new column:\")\n",
    "print(df)\n"
   ]
  },
  {
   "cell_type": "markdown",
   "id": "5dea85a3-a8db-4590-9d26-0fd199ebc23c",
   "metadata": {},
   "source": [
    "Matplotlib and panda"
   ]
  },
  {
   "cell_type": "code",
   "execution_count": 23,
   "id": "ab25682f-9ede-4dff-8888-29b09f8b24f5",
   "metadata": {
    "scrolled": true
   },
   "outputs": [
    {
     "data": {
      "image/png": "[encoded data removed]",
      "text/plain": [
       "<Figure size 800x500 with 1 Axes>"
      ]
     },
     "metadata": {},
     "output_type": "display_data"
    }
   ],
   "source": [
    "import pandas as pd\n",
    "import matplotlib.pyplot as plt\n",
    "\n",
    "# Create a DataFrame\n",
    "data = {'Month': ['Jan', 'Feb', 'Mar', 'Apr', 'May'],\n",
    "        'Sales': [100, 150, 120, 180, 200]}\n",
    "\n",
    "df = pd.DataFrame(data)\n",
    "\n",
    "# Plot the data\n",
    "plt.figure(figsize=(8, 5))\n",
    "plt.plot(df['Month'], df['Sales'], marker='o', color='blue', linestyle='-')\n",
    "\n",
    "# Add title and labels\n",
    "plt.title('Monthly Sales')\n",
    "plt.xlabel('Month')\n",
    "plt.ylabel('Sales')\n",
    "\n",
    "# Show the plot\n",
    "plt.grid(True)\n",
    "plt.show()\n"
   ]
  },
  {
   "cell_type": "markdown",
   "id": "3d03a392-a658-4d3a-954a-83d97297d665",
   "metadata": {},
   "source": [
    "Numpy, Math, Scipy"
   ]
  },
  {
   "cell_type": "code",
   "execution_count": 24,
   "id": "8db5c81a-451e-4385-867e-37c2366503f2",
   "metadata": {},
   "outputs": [
    {
     "name": "stdout",
     "output_type": "stream",
     "text": [
      "Math module:\n",
      "Square root of 25: 5.0\n",
      "\n",
      "NumPy module:\n",
      "Array: [1 2 3 4 5]\n",
      "Sum of array elements: 15\n",
      "\n",
      "Scipy module:\n",
      "Roots of the quadratic equation: [1. 1.]\n"
     ]
    }
   ],
   "source": [
    "import math\n",
    "import numpy as np\n",
    "from scipy.optimize import root\n",
    "\n",
    "# Math module example\n",
    "print(\"Math module:\")\n",
    "print(\"Square root of 25:\", math.sqrt(25))\n",
    "print()\n",
    "\n",
    "# NumPy module example\n",
    "print(\"NumPy module:\")\n",
    "arr = np.array([1, 2, 3, 4, 5])\n",
    "print(\"Array:\", arr)\n",
    "print(\"Sum of array elements:\", np.sum(arr))\n",
    "print()\n",
    "\n",
    "# Scipy module example\n",
    "print(\"Scipy module:\")\n",
    "# Define the coefficients of the quadratic equation: ax^2 + bx + c = 0\n",
    "a = 1\n",
    "b = -3\n",
    "c = 2\n",
    "\n",
    "# Find the roots of the quadratic equation\n",
    "root_result = root(lambda x: a * x**2 + b * x + c, [0, 1])\n",
    "roots = root_result.x\n",
    "print(\"Roots of the quadratic equation:\", roots)\n"
   ]
  },
  {
   "cell_type": "code",
   "execution_count": null,
   "id": "ff980af8-ccf5-40cc-9998-fae6b3de84d4",
   "metadata": {},
   "outputs": [],
   "source": []
  }
 ],
 "metadata": {
  "kernelspec": {
   "display_name": "Python 3 (ipykernel)",
   "language": "python",
   "name": "python3"
  },
  "language_info": {
   "codemirror_mode": {
    "name": "ipython",
    "version": 3
   },
   "file_extension": ".py",
   "mimetype": "text/x-python",
   "name": "python",
   "nbconvert_exporter": "python",
   "pygments_lexer": "ipython3",
   "version": "3.11.7"
  }
 },
 "nbformat": 4,
 "nbformat_minor": 5
}
