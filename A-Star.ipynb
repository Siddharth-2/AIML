{
 "cells": [
  {
   "cell_type": "markdown",
   "id": "513ff510-8b04-4019-a4c4-6a03c96060d1",
   "metadata": {},
   "source": [
    "A Star"
   ]
  },
  {
   "cell_type": "code",
   "execution_count": 1,
   "id": "f59b3064-dafe-4f9a-a3ac-698668bbcbbf",
   "metadata": {},
   "outputs": [
    {
     "name": "stdout",
     "output_type": "stream",
     "text": [
      "Following is the A* Algorithm\n",
      "Visited Nodes: [['S', 8], ['A', 9], ['B', 9], ['G', 9]]\n",
      "Optimal nodes sequence: ['S', 'B', 'G']\n"
     ]
    }
   ],
   "source": [
    "tree = {\n",
    "    'S': [['A', 1], ['B', 5], ['C', 8]],\n",
    "    'A': [['S', 1], ['D', 3], ['E', 7], ['G', 9]],\n",
    "    'B': [['S', 5], ['G', 4]], \n",
    "    'C': [['S', 8], ['G', 5]], \n",
    "    'D': [['A', 3]],\n",
    "    'E': [['A', 7]]\n",
    "}\n",
    "\n",
    "heuristic = {'S': 8, 'A': 8, 'B': 4, 'C': 3, 'D': 10, 'E': 10, 'G': 0 }\n",
    "\n",
    "cost = {'S': 0}               #TOTAL COST FOR NODES VISITED\n",
    "\n",
    "def AStarSearch():\n",
    "    global tree, heuristic, cost\n",
    "    closed = []\n",
    "    opened = [['S', 8]]\n",
    "    \n",
    "    #find the visited nodes\n",
    "    while True:\n",
    "        fn = [i[1] for i in opened]\n",
    "        chosen_index = fn.index(min(fn))\n",
    "        node = opened[chosen_index][0]\n",
    "        closed.append(opened[chosen_index])\n",
    "        del opened[chosen_index]\n",
    "        if closed[-1][0] == 'G':\n",
    "            break\n",
    "        for item in tree[node]:\n",
    "            if item[0] in [closed_item[0] for closed_item in closed]:\n",
    "                continue\n",
    "            cost.update({item[0]: cost[node] + item[1]})\n",
    "            fn_node = cost[node] + heuristic[item[0]] + item[1]\n",
    "            temp = [item[0], fn_node]\n",
    "            opened.append(temp)\n",
    "            \n",
    "    #find optimal sequence\n",
    "    trace_node = 'G'\n",
    "    optimal_sequence = ['G']\n",
    "    for i in range(len(closed) - 2, -1, -1):\n",
    "        check_node = closed[i][0]\n",
    "        if trace_node in [children[0] for children in tree[check_node]]:\n",
    "            children_costs = [temp[1] for temp in tree[check_node]]\n",
    "            children_nodes = [temp[0] for temp in tree[check_node]]\n",
    "                \n",
    "            if cost[check_node] + children_costs[children_nodes.index(trace_node)] == cost[trace_node]:\n",
    "                optimal_sequence.append(check_node)\n",
    "                trace_node = check_node\n",
    "                \n",
    "    optimal_sequence.reverse()\n",
    "    return closed, optimal_sequence\n",
    "\n",
    "if __name__ == '__main__':\n",
    "    visited_nodes, optimal_nodes = AStarSearch()\n",
    "    print(\"Following is the A* Algorithm\")\n",
    "    print('Visited Nodes: ' + str(visited_nodes))\n",
    "    print('Optimal nodes sequence: ' + str(optimal_nodes))\n"
   ]
  },
  {
   "cell_type": "code",
   "execution_count": null,
   "id": "7d557333-c7ce-4f8d-ad08-023f5671bca0",
   "metadata": {},
   "outputs": [],
   "source": []
  }
 ],
 "metadata": {
  "kernelspec": {
   "display_name": "Python 3 (ipykernel)",
   "language": "python",
   "name": "python3"
  },
  "language_info": {
   "codemirror_mode": {
    "name": "ipython",
    "version": 3
   },
   "file_extension": ".py",
   "mimetype": "text/x-python",
   "name": "python",
   "nbconvert_exporter": "python",
   "pygments_lexer": "ipython3",
   "version": "3.11.7"
  }
 },
 "nbformat": 4,
 "nbformat_minor": 5
}
